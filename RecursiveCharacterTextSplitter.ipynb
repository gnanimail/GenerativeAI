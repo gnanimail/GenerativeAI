{
 "cells": [
  {
   "cell_type": "code",
   "execution_count": 1,
   "id": "463b9257-c953-486f-8809-8905ed1e21b8",
   "metadata": {},
   "outputs": [],
   "source": [
    "import langchain\n",
    "from langchain.text_splitter import RecursiveCharacterTextSplitter"
   ]
  },
  {
   "cell_type": "code",
   "execution_count": 2,
   "id": "2ccc2e06-84fb-4408-954e-7a6e5f40d129",
   "metadata": {},
   "outputs": [],
   "source": [
    "content = \"\"\"A large language model (LLM) is a language model notable for its ability to achieve general-purpose language generation. LLMs acquire these abilities by learning statistical relationships from text documents during a computationally intensive self-supervised and semi-supervised training process. LLMs are artificial neural networks typically built with a transformer-based architecture. Some recent implementations are based on alternative architectures such as recurrent neural network variants and Mamba (a state space model).\n",
    "\n",
    "LLMs can be used for text generation, a form of generative AI, by taking an input text and repeatedly predicting the next token or word. Up to 2020, fine tuning was the only way a model could be adapted to be able to accomplish specific tasks. Larger sized models, such as GPT-3, however, can be prompt-engineered to achieve similar results. They are thought to acquire knowledge about syntax, semantics and \"ontology\" inherent in human language corpora, but also inaccuracies and biases present in the corpora.\n",
    "\n",
    "Some notable LLMs are OpenAI GPT models (e.g., GPT-3.5 and GPT-4, used in ChatGPT), Google's PaLM and Gemini (used in Bard), Microsoft's Copilot, Meta LLaMA family of open-source models, and Anthropic's Claude models.\n",
    "\n",
    "Although sometimes matching human performance, it is not clear they are plausible cognitive models. At least for recurrent neural networks it has been shown that they sometimes learn patterns which humans do not learn, but fail to learn patterns that humans typically do learn.\n",
    "\"\"\""
   ]
  },
  {
   "cell_type": "code",
   "execution_count": 3,
   "id": "c2a162d5-cddc-49d0-9f89-a4d5d787d84f",
   "metadata": {},
   "outputs": [
    {
     "data": {
      "text/plain": [
       "'A large language model (LLM) is a language model notable for its ability to achieve general-purpose language generation. LLMs acquire these abilities by learning statistical relationships from text documents during a computationally intensive self-supervised and semi-supervised training process. LLMs are artificial neural networks typically built with a transformer-based architecture. Some recent implementations are based on alternative architectures such as recurrent neural network variants and Mamba (a state space model).\\n\\nLLMs can be used for text generation, a form of generative AI, by taking an input text and repeatedly predicting the next token or word. Up to 2020, fine tuning was the only way a model could be adapted to be able to accomplish specific tasks. Larger sized models, such as GPT-3, however, can be prompt-engineered to achieve similar results. They are thought to acquire knowledge about syntax, semantics and \"ontology\" inherent in human language corpora, but also inaccuracies and biases present in the corpora.\\n\\nSome notable LLMs are OpenAI GPT models (e.g., GPT-3.5 and GPT-4, used in ChatGPT), Google\\'s PaLM and Gemini (used in Bard), Microsoft\\'s Copilot, Meta LLaMA family of open-source models, and Anthropic\\'s Claude models.\\n\\nAlthough sometimes matching human performance, it is not clear they are plausible cognitive models. At least for recurrent neural networks it has been shown that they sometimes learn patterns which humans do not learn, but fail to learn patterns that humans typically do learn.\\n'"
      ]
     },
     "execution_count": 3,
     "metadata": {},
     "output_type": "execute_result"
    }
   ],
   "source": [
    "content"
   ]
  },
  {
   "cell_type": "code",
   "execution_count": 4,
   "id": "940a6fe0-285f-40a9-8115-0784f53d1b7b",
   "metadata": {},
   "outputs": [
    {
     "data": {
      "text/plain": [
       "1541"
      ]
     },
     "execution_count": 4,
     "metadata": {},
     "output_type": "execute_result"
    }
   ],
   "source": [
    "len(content)"
   ]
  },
  {
   "cell_type": "code",
   "execution_count": 5,
   "id": "eb1a6f4d-4d78-4ee2-9fee-896f0a56d76f",
   "metadata": {},
   "outputs": [],
   "source": [
    "text_chunks = RecursiveCharacterTextSplitter(chunk_size=400,\n",
    "                                             chunk_overlap=10)\n",
    "\n",
    "chunks = text_chunks.split_text(content)"
   ]
  },
  {
   "cell_type": "code",
   "execution_count": 6,
   "id": "320ff2c6-5a66-46a3-a015-31f67eccd086",
   "metadata": {},
   "outputs": [
    {
     "name": "stdout",
     "output_type": "stream",
     "text": [
      "Total number of chunks in the Paragraph: 6\n"
     ]
    }
   ],
   "source": [
    "print(\"Total number of chunks in the Paragraph:\", len(chunks))"
   ]
  },
  {
   "cell_type": "code",
   "execution_count": 7,
   "id": "4d025a85-b596-4970-9fd4-1c75b184eac5",
   "metadata": {},
   "outputs": [
    {
     "name": "stdout",
     "output_type": "stream",
     "text": [
      "Chunk #0: A large language model (LLM) is a language model notable for its ability to achieve general-purpose language generation. LLMs acquire these abilities by learning statistical relationships from text documents during a computationally intensive self-supervised and semi-supervised training process. LLMs are artificial neural networks typically built with a transformer-based architecture. Some recent\n",
      "----------------------------------------------------------------------------------------------------\n",
      "Chunk #1: recent implementations are based on alternative architectures such as recurrent neural network variants and Mamba (a state space model).\n",
      "----------------------------------------------------------------------------------------------------\n",
      "Chunk #2: LLMs can be used for text generation, a form of generative AI, by taking an input text and repeatedly predicting the next token or word. Up to 2020, fine tuning was the only way a model could be adapted to be able to accomplish specific tasks. Larger sized models, such as GPT-3, however, can be prompt-engineered to achieve similar results. They are thought to acquire knowledge about syntax,\n",
      "----------------------------------------------------------------------------------------------------\n",
      "Chunk #3: syntax, semantics and \"ontology\" inherent in human language corpora, but also inaccuracies and biases present in the corpora.\n",
      "----------------------------------------------------------------------------------------------------\n",
      "Chunk #4: Some notable LLMs are OpenAI GPT models (e.g., GPT-3.5 and GPT-4, used in ChatGPT), Google's PaLM and Gemini (used in Bard), Microsoft's Copilot, Meta LLaMA family of open-source models, and Anthropic's Claude models.\n",
      "----------------------------------------------------------------------------------------------------\n",
      "Chunk #5: Although sometimes matching human performance, it is not clear they are plausible cognitive models. At least for recurrent neural networks it has been shown that they sometimes learn patterns which humans do not learn, but fail to learn patterns that humans typically do learn.\n",
      "----------------------------------------------------------------------------------------------------\n"
     ]
    }
   ],
   "source": [
    "for i,_ in enumerate(chunks):\n",
    "    print(f\"Chunk #{i}: {chunks[i]}\")\n",
    "    print(\"-\"*100)"
   ]
  },
  {
   "cell_type": "code",
   "execution_count": 8,
   "id": "c1b38413-8922-428e-ad32-38791a71c193",
   "metadata": {},
   "outputs": [
    {
     "name": "stdout",
     "output_type": "stream",
     "text": [
      "Chunk #0, Size:399\n",
      "Chunk #1, Size:136\n",
      "Chunk #2, Size:393\n",
      "Chunk #3, Size:125\n",
      "Chunk #4, Size:217\n",
      "Chunk #5, Size:277\n"
     ]
    }
   ],
   "source": [
    "for i, _ in enumerate(chunks):\n",
    "    print(f\"Chunk #{i}, Size:{len(chunks[i])}\")"
   ]
  },
  {
   "cell_type": "code",
   "execution_count": null,
   "id": "599a4342-b60e-4b42-ab63-80ac8b1dd5a1",
   "metadata": {},
   "outputs": [],
   "source": []
  },
  {
   "cell_type": "code",
   "execution_count": null,
   "id": "c6f9b518-635f-4081-80aa-db6e450e2fc6",
   "metadata": {},
   "outputs": [],
   "source": []
  },
  {
   "cell_type": "code",
   "execution_count": null,
   "id": "d2fb7523-6458-4fc3-95a9-747a41c9d025",
   "metadata": {},
   "outputs": [],
   "source": []
  },
  {
   "cell_type": "code",
   "execution_count": null,
   "id": "3c3fa661-a583-4b70-93a8-fec8d3abf9f6",
   "metadata": {},
   "outputs": [],
   "source": []
  },
  {
   "cell_type": "code",
   "execution_count": null,
   "id": "7775f146-dca6-4803-be2d-f994a8661ee8",
   "metadata": {},
   "outputs": [],
   "source": []
  },
  {
   "cell_type": "code",
   "execution_count": null,
   "id": "57fc694b-b500-4672-b90f-0f436714c44b",
   "metadata": {},
   "outputs": [],
   "source": []
  },
  {
   "cell_type": "code",
   "execution_count": null,
   "id": "54fa4455-4018-46aa-9a84-05662cd69011",
   "metadata": {},
   "outputs": [],
   "source": []
  }
 ],
 "metadata": {
  "kernelspec": {
   "display_name": "Python 3 (ipykernel)",
   "language": "python",
   "name": "python3"
  },
  "language_info": {
   "codemirror_mode": {
    "name": "ipython",
    "version": 3
   },
   "file_extension": ".py",
   "mimetype": "text/x-python",
   "name": "python",
   "nbconvert_exporter": "python",
   "pygments_lexer": "ipython3",
   "version": "3.10.0"
  }
 },
 "nbformat": 4,
 "nbformat_minor": 5
}
